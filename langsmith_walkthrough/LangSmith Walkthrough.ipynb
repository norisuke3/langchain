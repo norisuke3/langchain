{
 "cells": [
  {
   "cell_type": "code",
   "execution_count": 1,
   "id": "bfd07a36-1aba-4ee8-b20e-b3f3d8fd8bde",
   "metadata": {
    "editable": true,
    "slideshow": {
     "slide_type": ""
    },
    "tags": []
   },
   "outputs": [
    {
     "name": "stdout",
     "output_type": "stream",
     "text": [
      "/Users/nori/Library/Caches/pypoetry/virtualenvs/langsmith-walkthrough-E7zp2F2A-py3.12/bin/ipython\n"
     ]
    }
   ],
   "source": [
    "!which ipython"
   ]
  },
  {
   "cell_type": "code",
   "execution_count": 2,
   "id": "f409b5f4-e8d1-416d-8ef2-30343eec49ad",
   "metadata": {},
   "outputs": [
    {
     "name": "stdout",
     "output_type": "stream",
     "text": [
      "langchain                 0.1.20\n",
      "langchain-community       0.0.38\n",
      "langchain-core            0.1.52\n",
      "langchain-openai          0.1.7\n",
      "langchain-text-splitters  0.0.2\n",
      "langchainhub              0.1.20\n",
      "langsmith                 0.1.84\n"
     ]
    }
   ],
   "source": [
    "!pip list | grep lang"
   ]
  },
  {
   "cell_type": "markdown",
   "id": "580a0963-9149-4664-ae59-9bafe843ba34",
   "metadata": {},
   "source": [
    "### Choose Either of the following unique_id"
   ]
  },
  {
   "cell_type": "code",
   "execution_count": 34,
   "id": "c6fb7a11-2220-4336-9cd4-44757405bb9d",
   "metadata": {},
   "outputs": [],
   "source": [
    "from uuid import uuid4\n",
    "\n",
    "unique_id = uuid4().hex[0:8]"
   ]
  },
  {
   "cell_type": "code",
   "execution_count": 19,
   "id": "f3758e48-b404-4f7f-91cc-32659024f6cc",
   "metadata": {},
   "outputs": [],
   "source": [
    "unique_id = \"be132a1e\""
   ]
  },
  {
   "cell_type": "markdown",
   "id": "9b4d3dc0-bc64-403e-8d45-834a6fe2fd33",
   "metadata": {},
   "source": [
    "---"
   ]
  },
  {
   "cell_type": "code",
   "execution_count": 35,
   "id": "c86cacf6-f82b-483b-8972-99d6878067db",
   "metadata": {},
   "outputs": [],
   "source": [
    "import os\n",
    "\n",
    "os.environ[\"LANGCHAIN_PROJECT\"] = f\"Tracing Walkthrough - {unique_id}\"\n",
    "os.environ[\"LANGCHAIN_ENDPOINT\"] = \"https://api.smith.langchain.com\""
   ]
  },
  {
   "cell_type": "code",
   "execution_count": 36,
   "id": "743c614e-16df-4503-a9b7-0944eba51f35",
   "metadata": {},
   "outputs": [
    {
     "name": "stdout",
     "output_type": "stream",
     "text": [
      "LANGCHAIN_PROJECT=Tracing Walkthrough - 6ddef5ef\n"
     ]
    }
   ],
   "source": [
    "!env | grep LANGCHAIN_PROJECT"
   ]
  },
  {
   "cell_type": "code",
   "execution_count": 6,
   "id": "ee8ecf66-74bf-4e05-bf78-acff4491644c",
   "metadata": {},
   "outputs": [
    {
     "name": "stderr",
     "output_type": "stream",
     "text": [
      "Failed to batch ingest runs: LangSmithConnectionError(\"Connection error caused failure to POST https://api.smith.langchain.com/runs/batch  in LangSmith API. Please confirm your internet connection.. ConnectionError(ProtocolError('Connection aborted.', TimeoutError('The write operation timed out')))\")\n",
      "Failed to batch ingest runs: LangSmithConnectionError(\"Connection error caused failure to POST https://api.smith.langchain.com/runs/batch  in LangSmith API. Please confirm your internet connection.. ConnectionError(ProtocolError('Connection aborted.', TimeoutError('The write operation timed out')))\")\n",
      "Failed to batch ingest runs: LangSmithConnectionError(\"Connection error caused failure to POST https://api.smith.langchain.com/runs/batch  in LangSmith API. Please confirm your internet connection.. ConnectionError(ProtocolError('Connection aborted.', TimeoutError('The write operation timed out')))\")\n"
     ]
    }
   ],
   "source": [
    "from langsmith import Client\n",
    "\n",
    "client = Client()"
   ]
  },
  {
   "cell_type": "markdown",
   "id": "2ee93296-0595-4fb0-8f3a-f4657bb1c0c1",
   "metadata": {},
   "source": [
    "### Choose Either tool of DuckDuckGo or Tavily"
   ]
  },
  {
   "cell_type": "code",
   "execution_count": 7,
   "id": "3a6b1b5f-2dce-42c4-88e5-d4d766456f46",
   "metadata": {},
   "outputs": [],
   "source": [
    "from langchain_community.tools import DuckDuckGoSearchResults\n",
    "\n",
    "tools = [DuckDuckGoSearchResults(name=\"duck_duck_go\")]"
   ]
  },
  {
   "cell_type": "code",
   "execution_count": 9,
   "id": "ba8f117d-38b1-4272-ae97-7d25251d66b7",
   "metadata": {},
   "outputs": [],
   "source": [
    "from langchain_community.tools.tavily_search import TavilySearchResults\n",
    "\n",
    "tools = [TavilySearchResults(max_results=1)]"
   ]
  },
  {
   "cell_type": "markdown",
   "id": "ccac74f9-a699-489f-85e9-a80127375e1d",
   "metadata": {},
   "source": [
    "---"
   ]
  },
  {
   "cell_type": "code",
   "execution_count": 8,
   "id": "99696c61-5312-420a-b0d2-288ef9c92b35",
   "metadata": {},
   "outputs": [],
   "source": [
    "from langchain import hub\n",
    "from langchain.agents import AgentExecutor\n",
    "from langchain.agents.format_scratchpad.openai_tools import (\n",
    "    format_to_openai_tool_messages,\n",
    ")\n",
    "from langchain.agents.output_parsers.openai_tools import OpenAIToolsAgentOutputParser\n",
    "from langchain_openai import ChatOpenAI\n",
    "#from langchain_community.chat_models import ChatOpenAI\n",
    "\n",
    "# Fetches the latest version of this prompt\n",
    "prompt = hub.pull(\"wfh/langsmith-agent-prompt:5d466cbc\")\n",
    "\n",
    "llm = ChatOpenAI(\n",
    "    model=\"gpt-3.5-turbo-16k\",\n",
    "    temperature=0,\n",
    ")\n",
    "\n",
    "llm_with_tools = llm.bind_tools(tools)\n",
    "\n",
    "runnable_agent = (\n",
    "    {\n",
    "        \"input\": lambda x: x[\"input\"],\n",
    "        \"agent_scratchpad\": lambda x: format_to_openai_tool_messages(\n",
    "            x[\"intermediate_steps\"]\n",
    "        ),\n",
    "    }\n",
    "    | prompt\n",
    "    | llm_with_tools\n",
    "    | OpenAIToolsAgentOutputParser()\n",
    ")\n",
    "\n",
    "agent_executor = AgentExecutor(\n",
    "    agent=runnable_agent, tools=tools, handle_parsing_errors=True\n",
    ")"
   ]
  },
  {
   "cell_type": "code",
   "execution_count": 37,
   "id": "9fda4ab9-06d4-4d12-a274-1ea81df73688",
   "metadata": {},
   "outputs": [],
   "source": [
    "inputs = [\n",
    "    \"What is LangChain?\",\n",
    "    \"What's LangSmith?\",\n",
    "    \"When was Llama-v2 released?\",\n",
    "    \"What is the langsmith cookbook?\",\n",
    "    \"When did langchain first announce the hub?\",\n",
    "    \"Llama-v2 がリリースされた年の日本で最もヒットした曲のプロデューサーの初ジョクするプロダクションはなんて会社か。\"\n",
    "]\n",
    "\n",
    "results = agent_executor.batch([{\"input\": x} for x in inputs], return_exceptions=True)"
   ]
  },
  {
   "cell_type": "code",
   "execution_count": 38,
   "id": "3b5c344e-81bc-4ac8-954d-c07d505eb8b6",
   "metadata": {},
   "outputs": [
    {
     "data": {
      "text/plain": [
       "[{'input': 'What is LangChain?',\n",
       "  'output': 'I\\'m sorry, but I couldn\\'t find any information about \"LangChain\". Could you please provide more context or clarify your question?'},\n",
       " {'input': \"What's LangSmith?\",\n",
       "  'output': 'I\\'m sorry, but I couldn\\'t find any information about \"LangSmith\". It could be a company, a product, or a person. Can you provide more context or details about what you are referring to?'},\n",
       " {'input': 'When was Llama-v2 released?',\n",
       "  'output': 'Llama-v2 was released in 2023.'},\n",
       " {'input': 'What is the langsmith cookbook?',\n",
       "  'output': 'I\\'m sorry, but I couldn\\'t find any information about the \"Langsmith Cookbook\". It\\'s possible that it may not be a well-known cookbook or it may not exist. Could you provide more context or clarify your question?'},\n",
       " {'input': 'When did langchain first announce the hub?',\n",
       "  'output': 'LangChain first announced the LangChain Hub a few days ago.'},\n",
       " {'input': 'Llama-v2 がリリースされた年の日本で最もヒットした曲のプロデューサーの初ジョクするプロダクションはなんて会社か。',\n",
       "  'output': 'Llama-v2のリリース年に日本で最もヒットした曲のプロデューサーの初ジョクするプロダクションは、情報が見つかりませんでした。申し訳ありません。'}]"
      ]
     },
     "execution_count": 38,
     "metadata": {},
     "output_type": "execute_result"
    }
   ],
   "source": [
    "results"
   ]
  },
  {
   "cell_type": "code",
   "execution_count": 39,
   "id": "35cb5b17-3c64-46b4-92b0-8d1fc64f3d44",
   "metadata": {},
   "outputs": [],
   "source": [
    "outputs = [\n",
    "    \"LangChain is an open-source framework for building applications using large language models. It is also the name of the company building LangSmith.\",\n",
    "    \"LangSmith is a unified platform for debugging, testing, and monitoring language model applications and agents powered by LangChain\",\n",
    "    \"July 18, 2023\",\n",
    "    \"The langsmith cookbook is a github repository containing detailed examples of how to use LangSmith to debug, evaluate, and monitor large language model-powered applications.\",\n",
    "    \"September 5, 2023\", \n",
    "    \"??\"\n",
    "]"
   ]
  },
  {
   "cell_type": "code",
   "execution_count": 40,
   "id": "d97818d3-40d0-4e77-8701-8b268d61f69e",
   "metadata": {},
   "outputs": [],
   "source": [
    "dataset_name = f\"agent-qa-{unique_id}\"\n",
    "\n",
    "dataset = client.create_dataset(\n",
    "    dataset_name,\n",
    "    description=\"An example dataset of questions over the LangSmith documentation.\",\n",
    ")\n",
    "\n",
    "client.create_examples(\n",
    "    inputs=[{\"input\": query} for query in inputs],\n",
    "    outputs=[{\"output\": answer} for answer in outputs],\n",
    "    dataset_id=dataset.id,\n",
    ")"
   ]
  },
  {
   "cell_type": "code",
   "execution_count": 41,
   "id": "3fe64fe2-8213-4fd0-b5a5-7a3d53ed7e90",
   "metadata": {},
   "outputs": [],
   "source": [
    "from langchain import hub\n",
    "from langchain.agents import AgentExecutor, AgentType, initialize_agent, load_tools\n",
    "from langchain_openai import ChatOpenAI\n",
    "\n",
    "\n",
    "# Since chains can be stateful (e.g. they can have memory), we provide\n",
    "# a way to initialize a new chain for each row in the dataset. This is done\n",
    "# by passing in a factory function that returns a new chain for each row.\n",
    "def create_agent(prompt, llm_with_tools):\n",
    "    runnable_agent = (\n",
    "        {\n",
    "            \"input\": lambda x: x[\"input\"],\n",
    "            \"agent_scratchpad\": lambda x: format_to_openai_tool_messages(\n",
    "                x[\"intermediate_steps\"]\n",
    "            ),\n",
    "        }\n",
    "        | prompt\n",
    "        | llm_with_tools\n",
    "        | OpenAIToolsAgentOutputParser()\n",
    "    )\n",
    "    return AgentExecutor(agent=runnable_agent, tools=tools, handle_parsing_errors=True)"
   ]
  },
  {
   "cell_type": "code",
   "execution_count": 42,
   "id": "5878c574-bfea-4258-a49a-7dc17d0d9a1c",
   "metadata": {},
   "outputs": [],
   "source": [
    "from langsmith.evaluation import EvaluationResult\n",
    "from langsmith.schemas import Example, Run\n",
    "\n",
    "\n",
    "def check_not_idk(run: Run, example: Example):\n",
    "    \"\"\"Illustration of a custom evaluator.\"\"\"\n",
    "    agent_response = run.outputs[\"output\"]\n",
    "    if \"don't know\" in agent_response or \"not sure\" in agent_response or \"I couldn't find any information\" in agent_response:\n",
    "        score = 0\n",
    "    else:\n",
    "        score = 1\n",
    "    # You can access the dataset labels in example.outputs[key]\n",
    "    # You can also access the model inputs in run.inputs[key]\n",
    "    return EvaluationResult(\n",
    "        key=\"not_uncertain\",\n",
    "        score=score,\n",
    "    )"
   ]
  },
  {
   "cell_type": "code",
   "execution_count": 43,
   "id": "297a1549-e560-4e4e-ac30-96dedbbbd37b",
   "metadata": {},
   "outputs": [],
   "source": [
    "from typing import List\n",
    "\n",
    "\n",
    "def max_pred_length(runs: List[Run], examples: List[Example]):\n",
    "    predictions = [len(run.outputs[\"output\"]) for run in runs]\n",
    "    return EvaluationResult(key=\"max_pred_length\", score=max(predictions))"
   ]
  },
  {
   "cell_type": "code",
   "execution_count": 44,
   "id": "35cccd88-9918-4417-8437-193d3307945e",
   "metadata": {},
   "outputs": [],
   "source": [
    "from langchain.evaluation import EvaluatorType\n",
    "from langchain.smith import RunEvalConfig\n",
    "\n",
    "evaluation_config = RunEvalConfig(\n",
    "    # Evaluators can either be an evaluator type (e.g., \"qa\", \"criteria\", \"embedding_distance\", etc.) or a configuration for that evaluator\n",
    "    evaluators=[\n",
    "        check_not_idk,\n",
    "        # Measures whether a QA response is \"Correct\", based on a reference answer\n",
    "        # You can also select via the raw string \"qa\"\n",
    "        EvaluatorType.QA,\n",
    "        # Measure the embedding distance between the output and the reference answer\n",
    "        # Equivalent to: EvalConfig.EmbeddingDistance(embeddings=OpenAIEmbeddings())\n",
    "        EvaluatorType.EMBEDDING_DISTANCE,\n",
    "        # Grade whether the output satisfies the stated criteria.\n",
    "        # You can select a default one such as \"helpfulness\" or provide your own.\n",
    "        RunEvalConfig.LabeledCriteria(\"helpfulness\"),\n",
    "        # The LabeledScoreString evaluator outputs a score on a scale from 1-10.\n",
    "        # You can use default criteria or write our own rubric\n",
    "        RunEvalConfig.LabeledScoreString(\n",
    "            {\n",
    "                \"accuracy\": \"\"\"\n",
    "Score 1: The answer is completely unrelated to the reference.\n",
    "Score 3: The answer has minor relevance but does not align with the reference.\n",
    "Score 5: The answer has moderate relevance but contains inaccuracies.\n",
    "Score 7: The answer aligns with the reference but has minor errors or omissions.\n",
    "Score 10: The answer is completely accurate and aligns perfectly with the reference.\"\"\"\n",
    "            },\n",
    "            normalize_by=10,\n",
    "        ),\n",
    "    ],\n",
    "    batch_evaluators=[max_pred_length],\n",
    ")"
   ]
  },
  {
   "cell_type": "code",
   "execution_count": 45,
   "id": "7512a330-6358-4075-94fd-3ba6c526660e",
   "metadata": {},
   "outputs": [],
   "source": [
    "from langchain import hub\n",
    "\n",
    "# We will test this version of the prompt\n",
    "prompt = hub.pull(\"wfh/langsmith-agent-prompt:798e7324\")"
   ]
  },
  {
   "cell_type": "code",
   "execution_count": 49,
   "id": "eaa7310b-b047-4281-9e92-241fd9f261d7",
   "metadata": {},
   "outputs": [
    {
     "name": "stdout",
     "output_type": "stream",
     "text": [
      "View the evaluation results for project 'tools-agent-test-5d466cbc--6ddef5ef' at:\n",
      "https://smith.langchain.com/o/7f14323a-b476-561c-87d3-67707c1e5011/datasets/f8e79a54-977a-4cea-83e2-fd524704f47d/compare?selectedSessions=88098e9a-0d67-45cb-96e9-d00c0de0207f\n",
      "\n",
      "View all tests for Dataset agent-qa-6ddef5ef at:\n",
      "https://smith.langchain.com/o/7f14323a-b476-561c-87d3-67707c1e5011/datasets/f8e79a54-977a-4cea-83e2-fd524704f47d\n",
      "[------------------------------------------------->] 6/6"
     ]
    },
    {
     "data": {
      "text/html": [
       "<h3>Experiment Results:</h3>"
      ],
      "text/plain": [
       "<IPython.core.display.HTML object>"
      ]
     },
     "metadata": {},
     "output_type": "display_data"
    },
    {
     "data": {
      "text/html": [
       "<div>\n",
       "<style scoped>\n",
       "    .dataframe tbody tr th:only-of-type {\n",
       "        vertical-align: middle;\n",
       "    }\n",
       "\n",
       "    .dataframe tbody tr th {\n",
       "        vertical-align: top;\n",
       "    }\n",
       "\n",
       "    .dataframe thead th {\n",
       "        text-align: right;\n",
       "    }\n",
       "</style>\n",
       "<table border=\"1\" class=\"dataframe\">\n",
       "  <thead>\n",
       "    <tr style=\"text-align: right;\">\n",
       "      <th></th>\n",
       "      <th>feedback.not_uncertain</th>\n",
       "      <th>feedback.correctness</th>\n",
       "      <th>feedback.embedding_cosine_distance</th>\n",
       "      <th>feedback.helpfulness</th>\n",
       "      <th>feedback.score_string:accuracy</th>\n",
       "      <th>error</th>\n",
       "      <th>execution_time</th>\n",
       "      <th>run_id</th>\n",
       "    </tr>\n",
       "  </thead>\n",
       "  <tbody>\n",
       "    <tr>\n",
       "      <th>count</th>\n",
       "      <td>6.0</td>\n",
       "      <td>6.000000</td>\n",
       "      <td>6.000000</td>\n",
       "      <td>6.000000</td>\n",
       "      <td>6.000000</td>\n",
       "      <td>0</td>\n",
       "      <td>6.000000</td>\n",
       "      <td>6</td>\n",
       "    </tr>\n",
       "    <tr>\n",
       "      <th>unique</th>\n",
       "      <td>NaN</td>\n",
       "      <td>NaN</td>\n",
       "      <td>NaN</td>\n",
       "      <td>NaN</td>\n",
       "      <td>NaN</td>\n",
       "      <td>0</td>\n",
       "      <td>NaN</td>\n",
       "      <td>6</td>\n",
       "    </tr>\n",
       "    <tr>\n",
       "      <th>top</th>\n",
       "      <td>NaN</td>\n",
       "      <td>NaN</td>\n",
       "      <td>NaN</td>\n",
       "      <td>NaN</td>\n",
       "      <td>NaN</td>\n",
       "      <td>NaN</td>\n",
       "      <td>NaN</td>\n",
       "      <td>cdeb2d3f-e244-4247-b747-6839ade7e1f7</td>\n",
       "    </tr>\n",
       "    <tr>\n",
       "      <th>freq</th>\n",
       "      <td>NaN</td>\n",
       "      <td>NaN</td>\n",
       "      <td>NaN</td>\n",
       "      <td>NaN</td>\n",
       "      <td>NaN</td>\n",
       "      <td>NaN</td>\n",
       "      <td>NaN</td>\n",
       "      <td>1</td>\n",
       "    </tr>\n",
       "    <tr>\n",
       "      <th>mean</th>\n",
       "      <td>1.0</td>\n",
       "      <td>0.833333</td>\n",
       "      <td>0.146024</td>\n",
       "      <td>0.833333</td>\n",
       "      <td>0.716667</td>\n",
       "      <td>NaN</td>\n",
       "      <td>6.493590</td>\n",
       "      <td>NaN</td>\n",
       "    </tr>\n",
       "    <tr>\n",
       "      <th>std</th>\n",
       "      <td>0.0</td>\n",
       "      <td>0.408248</td>\n",
       "      <td>0.110686</td>\n",
       "      <td>0.408248</td>\n",
       "      <td>0.160208</td>\n",
       "      <td>NaN</td>\n",
       "      <td>3.929096</td>\n",
       "      <td>NaN</td>\n",
       "    </tr>\n",
       "    <tr>\n",
       "      <th>min</th>\n",
       "      <td>1.0</td>\n",
       "      <td>0.000000</td>\n",
       "      <td>0.043855</td>\n",
       "      <td>0.000000</td>\n",
       "      <td>0.500000</td>\n",
       "      <td>NaN</td>\n",
       "      <td>3.448360</td>\n",
       "      <td>NaN</td>\n",
       "    </tr>\n",
       "    <tr>\n",
       "      <th>25%</th>\n",
       "      <td>1.0</td>\n",
       "      <td>1.000000</td>\n",
       "      <td>0.049499</td>\n",
       "      <td>1.000000</td>\n",
       "      <td>0.700000</td>\n",
       "      <td>NaN</td>\n",
       "      <td>4.222523</td>\n",
       "      <td>NaN</td>\n",
       "    </tr>\n",
       "    <tr>\n",
       "      <th>50%</th>\n",
       "      <td>1.0</td>\n",
       "      <td>1.000000</td>\n",
       "      <td>0.123061</td>\n",
       "      <td>1.000000</td>\n",
       "      <td>0.700000</td>\n",
       "      <td>NaN</td>\n",
       "      <td>5.370922</td>\n",
       "      <td>NaN</td>\n",
       "    </tr>\n",
       "    <tr>\n",
       "      <th>75%</th>\n",
       "      <td>1.0</td>\n",
       "      <td>1.000000</td>\n",
       "      <td>0.241700</td>\n",
       "      <td>1.000000</td>\n",
       "      <td>0.700000</td>\n",
       "      <td>NaN</td>\n",
       "      <td>6.427634</td>\n",
       "      <td>NaN</td>\n",
       "    </tr>\n",
       "    <tr>\n",
       "      <th>max</th>\n",
       "      <td>1.0</td>\n",
       "      <td>1.000000</td>\n",
       "      <td>0.279939</td>\n",
       "      <td>1.000000</td>\n",
       "      <td>1.000000</td>\n",
       "      <td>NaN</td>\n",
       "      <td>14.151742</td>\n",
       "      <td>NaN</td>\n",
       "    </tr>\n",
       "  </tbody>\n",
       "</table>\n",
       "</div>"
      ],
      "text/plain": [
       "        feedback.not_uncertain  feedback.correctness  \\\n",
       "count                      6.0              6.000000   \n",
       "unique                     NaN                   NaN   \n",
       "top                        NaN                   NaN   \n",
       "freq                       NaN                   NaN   \n",
       "mean                       1.0              0.833333   \n",
       "std                        0.0              0.408248   \n",
       "min                        1.0              0.000000   \n",
       "25%                        1.0              1.000000   \n",
       "50%                        1.0              1.000000   \n",
       "75%                        1.0              1.000000   \n",
       "max                        1.0              1.000000   \n",
       "\n",
       "        feedback.embedding_cosine_distance  feedback.helpfulness  \\\n",
       "count                             6.000000              6.000000   \n",
       "unique                                 NaN                   NaN   \n",
       "top                                    NaN                   NaN   \n",
       "freq                                   NaN                   NaN   \n",
       "mean                              0.146024              0.833333   \n",
       "std                               0.110686              0.408248   \n",
       "min                               0.043855              0.000000   \n",
       "25%                               0.049499              1.000000   \n",
       "50%                               0.123061              1.000000   \n",
       "75%                               0.241700              1.000000   \n",
       "max                               0.279939              1.000000   \n",
       "\n",
       "        feedback.score_string:accuracy error  execution_time  \\\n",
       "count                         6.000000     0        6.000000   \n",
       "unique                             NaN     0             NaN   \n",
       "top                                NaN   NaN             NaN   \n",
       "freq                               NaN   NaN             NaN   \n",
       "mean                          0.716667   NaN        6.493590   \n",
       "std                           0.160208   NaN        3.929096   \n",
       "min                           0.500000   NaN        3.448360   \n",
       "25%                           0.700000   NaN        4.222523   \n",
       "50%                           0.700000   NaN        5.370922   \n",
       "75%                           0.700000   NaN        6.427634   \n",
       "max                           1.000000   NaN       14.151742   \n",
       "\n",
       "                                      run_id  \n",
       "count                                      6  \n",
       "unique                                     6  \n",
       "top     cdeb2d3f-e244-4247-b747-6839ade7e1f7  \n",
       "freq                                       1  \n",
       "mean                                     NaN  \n",
       "std                                      NaN  \n",
       "min                                      NaN  \n",
       "25%                                      NaN  \n",
       "50%                                      NaN  \n",
       "75%                                      NaN  \n",
       "max                                      NaN  "
      ]
     },
     "metadata": {},
     "output_type": "display_data"
    }
   ],
   "source": [
    "import functools\n",
    "from langchain.smith import arun_on_dataset, run_on_dataset\n",
    "\n",
    "candidate_prompt = hub.pull(\"wfh/langsmith-agent-prompt:39f3bbd0\")\n",
    "\n",
    "chain_results = run_on_dataset(\n",
    "    dataset_name=dataset_name,\n",
    "    llm_or_chain_factory=functools.partial(\n",
    "        create_agent, prompt=candidate_prompt, llm_with_tools=llm_with_tools\n",
    "    ),\n",
    "    evaluation=evaluation_config,\n",
    "    verbose=True,\n",
    "    client=client,\n",
    "    project_name=f\"tools-agent-test-5d466cbc--{unique_id}\",\n",
    "    # Project metadata communicates the experiment parameters,\n",
    "    # Useful for reviewing the test results\n",
    "    project_metadata={\n",
    "        \"env\": \"testing-notebook\",\n",
    "        \"model\": \"gpt-3.5-turbo\",\n",
    "        \"prompt\": \"5d466cbc\",\n",
    "    },\n",
    ")\n",
    "\n",
    "# Sometimes, the agent will error due to parsing issues, incompatible tool inputs, etc.\n",
    "# These are logged as warnings here and captured as errors in the tracing UI."
   ]
  },
  {
   "cell_type": "code",
   "execution_count": 47,
   "id": "cead1112-2aa4-4c92-a4f6-e3fe73922f18",
   "metadata": {},
   "outputs": [
    {
     "data": {
      "text/html": [
       "<div>\n",
       "<style scoped>\n",
       "    .dataframe tbody tr th:only-of-type {\n",
       "        vertical-align: middle;\n",
       "    }\n",
       "\n",
       "    .dataframe tbody tr th {\n",
       "        vertical-align: top;\n",
       "    }\n",
       "\n",
       "    .dataframe thead th {\n",
       "        text-align: right;\n",
       "    }\n",
       "</style>\n",
       "<table border=\"1\" class=\"dataframe\">\n",
       "  <thead>\n",
       "    <tr style=\"text-align: right;\">\n",
       "      <th></th>\n",
       "      <th>inputs.input</th>\n",
       "      <th>outputs.input</th>\n",
       "      <th>outputs.output</th>\n",
       "      <th>reference.output</th>\n",
       "      <th>feedback.not_uncertain</th>\n",
       "      <th>feedback.correctness</th>\n",
       "      <th>feedback.embedding_cosine_distance</th>\n",
       "      <th>feedback.helpfulness</th>\n",
       "      <th>feedback.score_string:accuracy</th>\n",
       "      <th>error</th>\n",
       "      <th>execution_time</th>\n",
       "      <th>run_id</th>\n",
       "    </tr>\n",
       "  </thead>\n",
       "  <tbody>\n",
       "    <tr>\n",
       "      <th>68d54632-a74c-4f37-ba05-4428db8eb5f6</th>\n",
       "      <td>What is LangChain?</td>\n",
       "      <td>What is LangChain?</td>\n",
       "      <td>LangChain is a decentralized blockchain platfo...</td>\n",
       "      <td>LangChain is an open-source framework for buil...</td>\n",
       "      <td>1</td>\n",
       "      <td>0</td>\n",
       "      <td>0.092569</td>\n",
       "      <td>0</td>\n",
       "      <td>0.1</td>\n",
       "      <td>None</td>\n",
       "      <td>2.381430</td>\n",
       "      <td>c82aa00d-3981-42fe-a56f-5b13f796ae2f</td>\n",
       "    </tr>\n",
       "    <tr>\n",
       "      <th>2dc9c8d3-e640-4091-ac4b-0fada4bc39fb</th>\n",
       "      <td>What's LangSmith?</td>\n",
       "      <td>What's LangSmith?</td>\n",
       "      <td>LangSmith is a platform designed to streamline...</td>\n",
       "      <td>LangSmith is a unified platform for debugging,...</td>\n",
       "      <td>1</td>\n",
       "      <td>1</td>\n",
       "      <td>0.061673</td>\n",
       "      <td>1</td>\n",
       "      <td>0.7</td>\n",
       "      <td>None</td>\n",
       "      <td>4.788338</td>\n",
       "      <td>311812b0-5c20-44b3-9d6f-a23d26888a2b</td>\n",
       "    </tr>\n",
       "    <tr>\n",
       "      <th>0d0e2279-6b86-46c2-8e3c-ad1ed70aa29d</th>\n",
       "      <td>When was Llama-v2 released?</td>\n",
       "      <td>When was Llama-v2 released?</td>\n",
       "      <td>Llama-v2 was released in July 2023.</td>\n",
       "      <td>July 18, 2023</td>\n",
       "      <td>1</td>\n",
       "      <td>1</td>\n",
       "      <td>0.163679</td>\n",
       "      <td>1</td>\n",
       "      <td>1.0</td>\n",
       "      <td>None</td>\n",
       "      <td>4.873810</td>\n",
       "      <td>48c7ba14-73ff-4b4b-b2c9-de8b8110a905</td>\n",
       "    </tr>\n",
       "    <tr>\n",
       "      <th>bb66bf77-1b7c-47ce-8149-30b410a08d6d</th>\n",
       "      <td>What is the langsmith cookbook?</td>\n",
       "      <td>What is the langsmith cookbook?</td>\n",
       "      <td>The LangSmith Cookbook is a repository that se...</td>\n",
       "      <td>The langsmith cookbook is a github repository ...</td>\n",
       "      <td>1</td>\n",
       "      <td>1</td>\n",
       "      <td>0.054625</td>\n",
       "      <td>1</td>\n",
       "      <td>0.9</td>\n",
       "      <td>None</td>\n",
       "      <td>4.970316</td>\n",
       "      <td>12d97884-125f-4f02-bd4f-64f7c7dfdfb3</td>\n",
       "    </tr>\n",
       "    <tr>\n",
       "      <th>77d82b84-7ca2-444c-92a0-a9890dc90f6d</th>\n",
       "      <td>When did langchain first announce the hub?</td>\n",
       "      <td>When did langchain first announce the hub?</td>\n",
       "      <td>LangChain first announced the LangChain Hub on...</td>\n",
       "      <td>September 5, 2023</td>\n",
       "      <td>1</td>\n",
       "      <td>0</td>\n",
       "      <td>0.251983</td>\n",
       "      <td>0</td>\n",
       "      <td>0.3</td>\n",
       "      <td>None</td>\n",
       "      <td>3.755413</td>\n",
       "      <td>a3352a6a-8ac6-4aef-b7dc-4db48c28441a</td>\n",
       "    </tr>\n",
       "    <tr>\n",
       "      <th>b21436ad-64f2-4ab5-b71d-7878b86ff8b2</th>\n",
       "      <td>Llama-v2 がリリースされた年の日本で最もヒットした曲のプロデューサーの初ジョクするプ...</td>\n",
       "      <td>Llama-v2 がリリースされた年の日本で最もヒットした曲のプロデューサーの初ジョクするプ...</td>\n",
       "      <td>Llama-v2のリリース年に日本で最もヒットした曲のプロデューサーの初ジョクするプロダクシ...</td>\n",
       "      <td>??</td>\n",
       "      <td>1</td>\n",
       "      <td>0</td>\n",
       "      <td>0.254821</td>\n",
       "      <td>1</td>\n",
       "      <td>0.5</td>\n",
       "      <td>None</td>\n",
       "      <td>12.663458</td>\n",
       "      <td>29cf5c41-9f66-42f6-bbbd-2c4d80018075</td>\n",
       "    </tr>\n",
       "  </tbody>\n",
       "</table>\n",
       "</div>"
      ],
      "text/plain": [
       "                                                                           inputs.input  \\\n",
       "68d54632-a74c-4f37-ba05-4428db8eb5f6                                 What is LangChain?   \n",
       "2dc9c8d3-e640-4091-ac4b-0fada4bc39fb                                  What's LangSmith?   \n",
       "0d0e2279-6b86-46c2-8e3c-ad1ed70aa29d                        When was Llama-v2 released?   \n",
       "bb66bf77-1b7c-47ce-8149-30b410a08d6d                    What is the langsmith cookbook?   \n",
       "77d82b84-7ca2-444c-92a0-a9890dc90f6d         When did langchain first announce the hub?   \n",
       "b21436ad-64f2-4ab5-b71d-7878b86ff8b2  Llama-v2 がリリースされた年の日本で最もヒットした曲のプロデューサーの初ジョクするプ...   \n",
       "\n",
       "                                                                          outputs.input  \\\n",
       "68d54632-a74c-4f37-ba05-4428db8eb5f6                                 What is LangChain?   \n",
       "2dc9c8d3-e640-4091-ac4b-0fada4bc39fb                                  What's LangSmith?   \n",
       "0d0e2279-6b86-46c2-8e3c-ad1ed70aa29d                        When was Llama-v2 released?   \n",
       "bb66bf77-1b7c-47ce-8149-30b410a08d6d                    What is the langsmith cookbook?   \n",
       "77d82b84-7ca2-444c-92a0-a9890dc90f6d         When did langchain first announce the hub?   \n",
       "b21436ad-64f2-4ab5-b71d-7878b86ff8b2  Llama-v2 がリリースされた年の日本で最もヒットした曲のプロデューサーの初ジョクするプ...   \n",
       "\n",
       "                                                                         outputs.output  \\\n",
       "68d54632-a74c-4f37-ba05-4428db8eb5f6  LangChain is a decentralized blockchain platfo...   \n",
       "2dc9c8d3-e640-4091-ac4b-0fada4bc39fb  LangSmith is a platform designed to streamline...   \n",
       "0d0e2279-6b86-46c2-8e3c-ad1ed70aa29d                Llama-v2 was released in July 2023.   \n",
       "bb66bf77-1b7c-47ce-8149-30b410a08d6d  The LangSmith Cookbook is a repository that se...   \n",
       "77d82b84-7ca2-444c-92a0-a9890dc90f6d  LangChain first announced the LangChain Hub on...   \n",
       "b21436ad-64f2-4ab5-b71d-7878b86ff8b2  Llama-v2のリリース年に日本で最もヒットした曲のプロデューサーの初ジョクするプロダクシ...   \n",
       "\n",
       "                                                                       reference.output  \\\n",
       "68d54632-a74c-4f37-ba05-4428db8eb5f6  LangChain is an open-source framework for buil...   \n",
       "2dc9c8d3-e640-4091-ac4b-0fada4bc39fb  LangSmith is a unified platform for debugging,...   \n",
       "0d0e2279-6b86-46c2-8e3c-ad1ed70aa29d                                      July 18, 2023   \n",
       "bb66bf77-1b7c-47ce-8149-30b410a08d6d  The langsmith cookbook is a github repository ...   \n",
       "77d82b84-7ca2-444c-92a0-a9890dc90f6d                                  September 5, 2023   \n",
       "b21436ad-64f2-4ab5-b71d-7878b86ff8b2                                                 ??   \n",
       "\n",
       "                                      feedback.not_uncertain  \\\n",
       "68d54632-a74c-4f37-ba05-4428db8eb5f6                       1   \n",
       "2dc9c8d3-e640-4091-ac4b-0fada4bc39fb                       1   \n",
       "0d0e2279-6b86-46c2-8e3c-ad1ed70aa29d                       1   \n",
       "bb66bf77-1b7c-47ce-8149-30b410a08d6d                       1   \n",
       "77d82b84-7ca2-444c-92a0-a9890dc90f6d                       1   \n",
       "b21436ad-64f2-4ab5-b71d-7878b86ff8b2                       1   \n",
       "\n",
       "                                      feedback.correctness  \\\n",
       "68d54632-a74c-4f37-ba05-4428db8eb5f6                     0   \n",
       "2dc9c8d3-e640-4091-ac4b-0fada4bc39fb                     1   \n",
       "0d0e2279-6b86-46c2-8e3c-ad1ed70aa29d                     1   \n",
       "bb66bf77-1b7c-47ce-8149-30b410a08d6d                     1   \n",
       "77d82b84-7ca2-444c-92a0-a9890dc90f6d                     0   \n",
       "b21436ad-64f2-4ab5-b71d-7878b86ff8b2                     0   \n",
       "\n",
       "                                      feedback.embedding_cosine_distance  \\\n",
       "68d54632-a74c-4f37-ba05-4428db8eb5f6                            0.092569   \n",
       "2dc9c8d3-e640-4091-ac4b-0fada4bc39fb                            0.061673   \n",
       "0d0e2279-6b86-46c2-8e3c-ad1ed70aa29d                            0.163679   \n",
       "bb66bf77-1b7c-47ce-8149-30b410a08d6d                            0.054625   \n",
       "77d82b84-7ca2-444c-92a0-a9890dc90f6d                            0.251983   \n",
       "b21436ad-64f2-4ab5-b71d-7878b86ff8b2                            0.254821   \n",
       "\n",
       "                                      feedback.helpfulness  \\\n",
       "68d54632-a74c-4f37-ba05-4428db8eb5f6                     0   \n",
       "2dc9c8d3-e640-4091-ac4b-0fada4bc39fb                     1   \n",
       "0d0e2279-6b86-46c2-8e3c-ad1ed70aa29d                     1   \n",
       "bb66bf77-1b7c-47ce-8149-30b410a08d6d                     1   \n",
       "77d82b84-7ca2-444c-92a0-a9890dc90f6d                     0   \n",
       "b21436ad-64f2-4ab5-b71d-7878b86ff8b2                     1   \n",
       "\n",
       "                                      feedback.score_string:accuracy error  \\\n",
       "68d54632-a74c-4f37-ba05-4428db8eb5f6                             0.1  None   \n",
       "2dc9c8d3-e640-4091-ac4b-0fada4bc39fb                             0.7  None   \n",
       "0d0e2279-6b86-46c2-8e3c-ad1ed70aa29d                             1.0  None   \n",
       "bb66bf77-1b7c-47ce-8149-30b410a08d6d                             0.9  None   \n",
       "77d82b84-7ca2-444c-92a0-a9890dc90f6d                             0.3  None   \n",
       "b21436ad-64f2-4ab5-b71d-7878b86ff8b2                             0.5  None   \n",
       "\n",
       "                                      execution_time  \\\n",
       "68d54632-a74c-4f37-ba05-4428db8eb5f6        2.381430   \n",
       "2dc9c8d3-e640-4091-ac4b-0fada4bc39fb        4.788338   \n",
       "0d0e2279-6b86-46c2-8e3c-ad1ed70aa29d        4.873810   \n",
       "bb66bf77-1b7c-47ce-8149-30b410a08d6d        4.970316   \n",
       "77d82b84-7ca2-444c-92a0-a9890dc90f6d        3.755413   \n",
       "b21436ad-64f2-4ab5-b71d-7878b86ff8b2       12.663458   \n",
       "\n",
       "                                                                    run_id  \n",
       "68d54632-a74c-4f37-ba05-4428db8eb5f6  c82aa00d-3981-42fe-a56f-5b13f796ae2f  \n",
       "2dc9c8d3-e640-4091-ac4b-0fada4bc39fb  311812b0-5c20-44b3-9d6f-a23d26888a2b  \n",
       "0d0e2279-6b86-46c2-8e3c-ad1ed70aa29d  48c7ba14-73ff-4b4b-b2c9-de8b8110a905  \n",
       "bb66bf77-1b7c-47ce-8149-30b410a08d6d  12d97884-125f-4f02-bd4f-64f7c7dfdfb3  \n",
       "77d82b84-7ca2-444c-92a0-a9890dc90f6d  a3352a6a-8ac6-4aef-b7dc-4db48c28441a  \n",
       "b21436ad-64f2-4ab5-b71d-7878b86ff8b2  29cf5c41-9f66-42f6-bbbd-2c4d80018075  "
      ]
     },
     "execution_count": 47,
     "metadata": {},
     "output_type": "execute_result"
    }
   ],
   "source": [
    "chain_results.to_dataframe()"
   ]
  },
  {
   "cell_type": "code",
   "execution_count": 51,
   "id": "b106ef7a-ce29-4bb1-a24f-b6b77e33e446",
   "metadata": {},
   "outputs": [],
   "source": [
    "runs = client.list_runs(project_name=chain_results[\"project_name\"], execution_order=1)"
   ]
  },
  {
   "cell_type": "code",
   "execution_count": 52,
   "id": "5ee10ad5-ac6e-448c-a323-a7749a4ce1f9",
   "metadata": {},
   "outputs": [
    {
     "data": {
      "text/plain": [
       "<generator object Client.list_runs at 0x112f9d3a0>"
      ]
     },
     "execution_count": 52,
     "metadata": {},
     "output_type": "execute_result"
    }
   ],
   "source": [
    "runs"
   ]
  },
  {
   "cell_type": "code",
   "execution_count": 54,
   "id": "3cdcafec-6751-49b8-992c-a8e7a5c94979",
   "metadata": {},
   "outputs": [
    {
     "data": {
      "text/plain": [
       "{'env': 'testing-notebook',\n",
       " 'git': {'tags': None,\n",
       "  'dirty': True,\n",
       "  'branch': 'main',\n",
       "  'commit': '384ad1f0de3ea68482747bdecba24a39bef0ab1e',\n",
       "  'repo_name': 'llm',\n",
       "  'remote_url': 'git@github.com:norisuke3/llm.git',\n",
       "  'author_name': 'Noriaki Hamamoto',\n",
       "  'commit_time': '1719940864',\n",
       "  'author_email': 'norisuke3@gmail.com'},\n",
       " 'model': 'gpt-3.5-turbo',\n",
       " 'prompt': '5d466cbc',\n",
       " 'revision_id': '384ad1f',\n",
       " 'dataset_version': '2024-07-08T23:37:35.099693+00:00'}"
      ]
     },
     "execution_count": 54,
     "metadata": {},
     "output_type": "execute_result"
    }
   ],
   "source": [
    "# The resulting tests are stored in a project.  You can programmatically\n",
    "# access important metadata from the test, such as the dataset version it was run on\n",
    "# or your application's revision ID.\n",
    "client.read_project(project_name=chain_results[\"project_name\"]).metadata"
   ]
  },
  {
   "cell_type": "code",
   "execution_count": 55,
   "id": "d275be98-a1e1-46ae-af44-036828f3c355",
   "metadata": {},
   "outputs": [
    {
     "data": {
      "text/plain": [
       "{'correctness': {'n': 5, 'avg': 0.8, 'values': {'CORRECT': 4, 'INCORRECT': 1}},\n",
       " 'embedding_cosine_distance': {'n': 5, 'avg': 0.1236, 'values': {}},\n",
       " 'helpfulness': {'n': 5, 'avg': 0.8, 'values': {'N': 1, 'Y': 4}},\n",
       " 'not_uncertain': {'n': 5, 'avg': 1.0, 'values': {}},\n",
       " 'score_string:accuracy': {'n': 5, 'avg': 0.72, 'values': {}}}"
      ]
     },
     "execution_count": 55,
     "metadata": {},
     "output_type": "execute_result"
    }
   ],
   "source": [
    "# After some time, the test metrics will be populated as well.\n",
    "client.read_project(project_name=chain_results[\"project_name\"]).feedback_stats"
   ]
  },
  {
   "cell_type": "code",
   "execution_count": null,
   "id": "e87f623d-a213-4898-9264-885883bf9f2f",
   "metadata": {},
   "outputs": [],
   "source": []
  }
 ],
 "metadata": {
  "kernelspec": {
   "display_name": "Python 3 (ipykernel)",
   "language": "python",
   "name": "python3"
  },
  "language_info": {
   "codemirror_mode": {
    "name": "ipython",
    "version": 3
   },
   "file_extension": ".py",
   "mimetype": "text/x-python",
   "name": "python",
   "nbconvert_exporter": "python",
   "pygments_lexer": "ipython3",
   "version": "3.12.3"
  }
 },
 "nbformat": 4,
 "nbformat_minor": 5
}
