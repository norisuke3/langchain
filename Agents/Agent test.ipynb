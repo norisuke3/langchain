{
 "cells": [
  {
   "cell_type": "code",
   "execution_count": 1,
   "id": "30f320c5-2156-4d5b-9c82-9a4e012fe33f",
   "metadata": {},
   "outputs": [
    {
     "name": "stdout",
     "output_type": "stream",
     "text": [
      "Requirement already satisfied: langchain-community in /usr/local/var/pyenv/versions/3.11.6/lib/python3.11/site-packages (0.2.5)\n",
      "Requirement already satisfied: langgraph in /usr/local/var/pyenv/versions/3.11.6/lib/python3.11/site-packages (0.0.69)\n",
      "Requirement already satisfied: langchain-openai in /usr/local/var/pyenv/versions/3.11.6/lib/python3.11/site-packages (0.1.8)\n",
      "Requirement already satisfied: PyYAML>=5.3 in /usr/local/var/pyenv/versions/3.11.6/lib/python3.11/site-packages (from langchain-community) (6.0.1)\n",
      "Requirement already satisfied: SQLAlchemy<3,>=1.4 in /usr/local/var/pyenv/versions/3.11.6/lib/python3.11/site-packages (from langchain-community) (2.0.30)\n",
      "Requirement already satisfied: aiohttp<4.0.0,>=3.8.3 in /usr/local/var/pyenv/versions/3.11.6/lib/python3.11/site-packages (from langchain-community) (3.9.5)\n",
      "Requirement already satisfied: dataclasses-json<0.7,>=0.5.7 in /usr/local/var/pyenv/versions/3.11.6/lib/python3.11/site-packages (from langchain-community) (0.5.14)\n",
      "Requirement already satisfied: langchain<0.3.0,>=0.2.5 in /usr/local/var/pyenv/versions/3.11.6/lib/python3.11/site-packages (from langchain-community) (0.2.5)\n",
      "Requirement already satisfied: langchain-core<0.3.0,>=0.2.7 in /usr/local/var/pyenv/versions/3.11.6/lib/python3.11/site-packages (from langchain-community) (0.2.8)\n",
      "Requirement already satisfied: langsmith<0.2.0,>=0.1.0 in /usr/local/var/pyenv/versions/3.11.6/lib/python3.11/site-packages (from langchain-community) (0.1.79)\n",
      "Requirement already satisfied: numpy<2,>=1 in /Users/nori/.local/lib/python3.11/site-packages (from langchain-community) (1.26.1)\n",
      "Requirement already satisfied: requests<3,>=2 in /usr/local/var/pyenv/versions/3.11.6/lib/python3.11/site-packages (from langchain-community) (2.31.0)\n",
      "Requirement already satisfied: tenacity<9.0.0,>=8.1.0 in /usr/local/var/pyenv/versions/3.11.6/lib/python3.11/site-packages (from langchain-community) (8.3.0)\n",
      "Requirement already satisfied: openai<2.0.0,>=1.26.0 in /usr/local/var/pyenv/versions/3.11.6/lib/python3.11/site-packages (from langchain-openai) (1.33.0)\n",
      "Requirement already satisfied: tiktoken<1,>=0.7 in /usr/local/var/pyenv/versions/3.11.6/lib/python3.11/site-packages (from langchain-openai) (0.7.0)\n",
      "Requirement already satisfied: aiosignal>=1.1.2 in /usr/local/var/pyenv/versions/3.11.6/lib/python3.11/site-packages (from aiohttp<4.0.0,>=3.8.3->langchain-community) (1.3.1)\n",
      "Requirement already satisfied: attrs>=17.3.0 in /usr/local/var/pyenv/versions/3.11.6/lib/python3.11/site-packages (from aiohttp<4.0.0,>=3.8.3->langchain-community) (23.1.0)\n",
      "Requirement already satisfied: frozenlist>=1.1.1 in /usr/local/var/pyenv/versions/3.11.6/lib/python3.11/site-packages (from aiohttp<4.0.0,>=3.8.3->langchain-community) (1.4.1)\n",
      "Requirement already satisfied: multidict<7.0,>=4.5 in /usr/local/var/pyenv/versions/3.11.6/lib/python3.11/site-packages (from aiohttp<4.0.0,>=3.8.3->langchain-community) (6.0.5)\n",
      "Requirement already satisfied: yarl<2.0,>=1.0 in /usr/local/var/pyenv/versions/3.11.6/lib/python3.11/site-packages (from aiohttp<4.0.0,>=3.8.3->langchain-community) (1.9.4)\n",
      "Requirement already satisfied: marshmallow<4.0.0,>=3.18.0 in /usr/local/var/pyenv/versions/3.11.6/lib/python3.11/site-packages (from dataclasses-json<0.7,>=0.5.7->langchain-community) (3.21.3)\n",
      "Requirement already satisfied: typing-inspect<1,>=0.4.0 in /usr/local/var/pyenv/versions/3.11.6/lib/python3.11/site-packages (from dataclasses-json<0.7,>=0.5.7->langchain-community) (0.9.0)\n",
      "Requirement already satisfied: langchain-text-splitters<0.3.0,>=0.2.0 in /usr/local/var/pyenv/versions/3.11.6/lib/python3.11/site-packages (from langchain<0.3.0,>=0.2.5->langchain-community) (0.2.0)\n",
      "Requirement already satisfied: pydantic<3,>=1 in /usr/local/var/pyenv/versions/3.11.6/lib/python3.11/site-packages (from langchain<0.3.0,>=0.2.5->langchain-community) (1.10.15)\n",
      "Requirement already satisfied: jsonpatch<2.0,>=1.33 in /usr/local/var/pyenv/versions/3.11.6/lib/python3.11/site-packages (from langchain-core<0.3.0,>=0.2.7->langchain-community) (1.33)\n",
      "Requirement already satisfied: packaging<25,>=23.2 in /usr/local/var/pyenv/versions/3.11.6/lib/python3.11/site-packages (from langchain-core<0.3.0,>=0.2.7->langchain-community) (23.2)\n",
      "Requirement already satisfied: orjson<4.0.0,>=3.9.14 in /usr/local/var/pyenv/versions/3.11.6/lib/python3.11/site-packages (from langsmith<0.2.0,>=0.1.0->langchain-community) (3.10.3)\n",
      "Requirement already satisfied: anyio<5,>=3.5.0 in /usr/local/var/pyenv/versions/3.11.6/lib/python3.11/site-packages (from openai<2.0.0,>=1.26.0->langchain-openai) (4.0.0)\n",
      "Requirement already satisfied: distro<2,>=1.7.0 in /usr/local/var/pyenv/versions/3.11.6/lib/python3.11/site-packages (from openai<2.0.0,>=1.26.0->langchain-openai) (1.9.0)\n",
      "Requirement already satisfied: httpx<1,>=0.23.0 in /usr/local/var/pyenv/versions/3.11.6/lib/python3.11/site-packages (from openai<2.0.0,>=1.26.0->langchain-openai) (0.27.0)\n",
      "Requirement already satisfied: sniffio in /usr/local/var/pyenv/versions/3.11.6/lib/python3.11/site-packages (from openai<2.0.0,>=1.26.0->langchain-openai) (1.3.0)\n",
      "Requirement already satisfied: tqdm>4 in /usr/local/var/pyenv/versions/3.11.6/lib/python3.11/site-packages (from openai<2.0.0,>=1.26.0->langchain-openai) (4.66.4)\n",
      "Requirement already satisfied: typing-extensions<5,>=4.7 in /usr/local/var/pyenv/versions/3.11.6/lib/python3.11/site-packages (from openai<2.0.0,>=1.26.0->langchain-openai) (4.12.1)\n",
      "Requirement already satisfied: charset-normalizer<4,>=2 in /usr/local/var/pyenv/versions/3.11.6/lib/python3.11/site-packages (from requests<3,>=2->langchain-community) (3.3.0)\n",
      "Requirement already satisfied: idna<4,>=2.5 in /usr/local/var/pyenv/versions/3.11.6/lib/python3.11/site-packages (from requests<3,>=2->langchain-community) (3.4)\n",
      "Requirement already satisfied: urllib3<3,>=1.21.1 in /usr/local/var/pyenv/versions/3.11.6/lib/python3.11/site-packages (from requests<3,>=2->langchain-community) (2.0.6)\n",
      "Requirement already satisfied: certifi>=2017.4.17 in /usr/local/var/pyenv/versions/3.11.6/lib/python3.11/site-packages (from requests<3,>=2->langchain-community) (2023.7.22)\n",
      "Requirement already satisfied: greenlet!=0.4.17 in /usr/local/var/pyenv/versions/3.11.6/lib/python3.11/site-packages (from SQLAlchemy<3,>=1.4->langchain-community) (3.0.3)\n",
      "Requirement already satisfied: regex>=2022.1.18 in /usr/local/var/pyenv/versions/3.11.6/lib/python3.11/site-packages (from tiktoken<1,>=0.7->langchain-openai) (2024.5.15)\n",
      "Requirement already satisfied: httpcore==1.* in /usr/local/var/pyenv/versions/3.11.6/lib/python3.11/site-packages (from httpx<1,>=0.23.0->openai<2.0.0,>=1.26.0->langchain-openai) (1.0.5)\n",
      "Requirement already satisfied: h11<0.15,>=0.13 in /usr/local/var/pyenv/versions/3.11.6/lib/python3.11/site-packages (from httpcore==1.*->httpx<1,>=0.23.0->openai<2.0.0,>=1.26.0->langchain-openai) (0.14.0)\n",
      "Requirement already satisfied: jsonpointer>=1.9 in /usr/local/var/pyenv/versions/3.11.6/lib/python3.11/site-packages (from jsonpatch<2.0,>=1.33->langchain-core<0.3.0,>=0.2.7->langchain-community) (2.4)\n",
      "Requirement already satisfied: mypy-extensions>=0.3.0 in /usr/local/var/pyenv/versions/3.11.6/lib/python3.11/site-packages (from typing-inspect<1,>=0.4.0->dataclasses-json<0.7,>=0.5.7->langchain-community) (1.0.0)\n",
      "\n",
      "\u001b[1m[\u001b[0m\u001b[34;49mnotice\u001b[0m\u001b[1;39;49m]\u001b[0m\u001b[39;49m A new release of pip is available: \u001b[0m\u001b[31;49m23.3.1\u001b[0m\u001b[39;49m -> \u001b[0m\u001b[32;49m24.0\u001b[0m\n",
      "\u001b[1m[\u001b[0m\u001b[34;49mnotice\u001b[0m\u001b[1;39;49m]\u001b[0m\u001b[39;49m To update, run: \u001b[0m\u001b[32;49mpip install --upgrade pip\u001b[0m\n"
     ]
    }
   ],
   "source": [
    "!pip install -U langchain-community langgraph langchain-openai"
   ]
  },
  {
   "cell_type": "code",
   "execution_count": 2,
   "id": "f0eaaee4-61c3-4e09-aae6-e72d51a43aba",
   "metadata": {},
   "outputs": [
    {
     "ename": "ImportError",
     "evalue": "cannot import name 'Tool' from 'langchain' (/usr/local/var/pyenv/versions/3.11.6/lib/python3.11/site-packages/langchain/__init__.py)",
     "output_type": "error",
     "traceback": [
      "\u001b[0;31m---------------------------------------------------------------------------\u001b[0m",
      "\u001b[0;31mImportError\u001b[0m                               Traceback (most recent call last)",
      "Cell \u001b[0;32mIn[2], line 2\u001b[0m\n\u001b[1;32m      1\u001b[0m \u001b[38;5;66;03m# 必要なライブラリをインポート\u001b[39;00m\n\u001b[0;32m----> 2\u001b[0m \u001b[38;5;28;01mfrom\u001b[39;00m \u001b[38;5;21;01mlangchain\u001b[39;00m \u001b[38;5;28;01mimport\u001b[39;00m Tool, Memory, Context, create_react_agent\n\u001b[1;32m      3\u001b[0m \u001b[38;5;28;01mfrom\u001b[39;00m \u001b[38;5;21;01mlangchain\u001b[39;00m\u001b[38;5;21;01m.\u001b[39;00m\u001b[38;5;21;01mllms\u001b[39;00m \u001b[38;5;28;01mimport\u001b[39;00m OpenAI\n\u001b[1;32m      4\u001b[0m \u001b[38;5;28;01mimport\u001b[39;00m \u001b[38;5;21;01mgetpass\u001b[39;00m\n",
      "\u001b[0;31mImportError\u001b[0m: cannot import name 'Tool' from 'langchain' (/usr/local/var/pyenv/versions/3.11.6/lib/python3.11/site-packages/langchain/__init__.py)"
     ]
    }
   ],
   "source": [
    "# 必要なライブラリをインポート\n",
    "from langchain import Tool, Memory, Context, create_react_agent\n",
    "from langchain.llms import OpenAI\n",
    "import getpass\n",
    "import os\n",
    "\n",
    "print('Enter key for OPENAI')\n",
    "os.environ[\"OPENAI_API_KEY\"] = getpass.getpass()\n",
    "\n",
    "# LLMのインスタンスを作成\n",
    "llm = OpenAI(model=\"gpt-4o\")\n",
    "\n",
    "# ツールの定義\n",
    "class CalculatorTool(Tool):\n",
    "    def __init__(self):\n",
    "        self.description = \"This tool calculates mathematical expressions.\"\n",
    "\n",
    "    def run(self, query: str) -> str:\n",
    "        try:\n",
    "            result = eval(query)\n",
    "            return f\"The result is {result}\"\n",
    "        except Exception as e:\n",
    "            return str(e)\n",
    "\n",
    "# ツールのリスト\n",
    "tools = [CalculatorTool()]\n",
    "\n",
    "# メモリの作成\n",
    "memory = Memory()\n",
    "\n",
    "# ReActエージェントの作成\n",
    "react_agent = create_react_agent(llm=llm, tools=tools, memory=memory)\n",
    "\n",
    "# クエリを処理\n",
    "context = Context(query=\"Calculate the sum of 20 and 30.\")\n",
    "response = react_agent.process(context)\n",
    "print(response)  # 出力: The result is 50\n"
   ]
  },
  {
   "cell_type": "code",
   "execution_count": null,
   "id": "1d7e5943-29dc-4f15-b67b-d541437dc197",
   "metadata": {},
   "outputs": [],
   "source": []
  }
 ],
 "metadata": {
  "kernelspec": {
   "display_name": "Python 3 (ipykernel)",
   "language": "python",
   "name": "python3"
  },
  "language_info": {
   "codemirror_mode": {
    "name": "ipython",
    "version": 3
   },
   "file_extension": ".py",
   "mimetype": "text/x-python",
   "name": "python",
   "nbconvert_exporter": "python",
   "pygments_lexer": "ipython3",
   "version": "3.11.6"
  }
 },
 "nbformat": 4,
 "nbformat_minor": 5
}
